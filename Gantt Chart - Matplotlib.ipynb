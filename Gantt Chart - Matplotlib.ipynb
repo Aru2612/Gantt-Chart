{
 "cells": [
  {
   "cell_type": "code",
   "execution_count": 1,
   "metadata": {},
   "outputs": [],
   "source": [
    "import numpy as np\n",
    "import pandas as pd\n",
    "\n",
    "import matplotlib as mpl\n",
    "import matplotlib.pyplot as plt\n",
    "import matplotlib.dates as mdates"
   ]
  },
  {
   "cell_type": "code",
   "execution_count": 2,
   "metadata": {},
   "outputs": [],
   "source": [
    "data=pd.read_csv('Data/Project Plan detailed.csv')"
   ]
  },
  {
   "cell_type": "code",
   "execution_count": 3,
   "metadata": {
    "scrolled": true
   },
   "outputs": [
    {
     "data": {
      "text/plain": [
       "Phase         object\n",
       "Sub-Phase     object\n",
       "Start Date    object\n",
       "End Date      object\n",
       "dtype: object"
      ]
     },
     "execution_count": 3,
     "metadata": {},
     "output_type": "execute_result"
    }
   ],
   "source": [
    "data.dtypes"
   ]
  },
  {
   "cell_type": "code",
   "execution_count": 4,
   "metadata": {},
   "outputs": [],
   "source": [
    "data['Start Date']=pd.to_datetime(data['Start Date'],format='%d/%m/%Y')\n",
    "data['End Date']=pd.to_datetime(data['End Date'],format='%d/%m/%Y')\n",
    "data['Date Difference in days']=(data['End Date']-data['Start Date']).dt.days"
   ]
  },
  {
   "cell_type": "code",
   "execution_count": 5,
   "metadata": {},
   "outputs": [],
   "source": [
    "data['Phase']=data['Phase'].str.wrap(20)"
   ]
  },
  {
   "cell_type": "code",
   "execution_count": 6,
   "metadata": {
    "scrolled": false
   },
   "outputs": [
    {
     "data": {
      "text/html": [
       "<div>\n",
       "<style scoped>\n",
       "    .dataframe tbody tr th:only-of-type {\n",
       "        vertical-align: middle;\n",
       "    }\n",
       "\n",
       "    .dataframe tbody tr th {\n",
       "        vertical-align: top;\n",
       "    }\n",
       "\n",
       "    .dataframe thead th {\n",
       "        text-align: right;\n",
       "    }\n",
       "</style>\n",
       "<table border=\"1\" class=\"dataframe\">\n",
       "  <thead>\n",
       "    <tr style=\"text-align: right;\">\n",
       "      <th></th>\n",
       "      <th>Phase</th>\n",
       "      <th>Sub-Phase</th>\n",
       "      <th>Start Date</th>\n",
       "      <th>End Date</th>\n",
       "      <th>Date Difference in days</th>\n",
       "    </tr>\n",
       "  </thead>\n",
       "  <tbody>\n",
       "    <tr>\n",
       "      <th>0</th>\n",
       "      <td>Preparatory Phase</td>\n",
       "      <td>Literature Review of similar robot modelling a...</td>\n",
       "      <td>2019-07-15</td>\n",
       "      <td>2019-07-21</td>\n",
       "      <td>6</td>\n",
       "    </tr>\n",
       "    <tr>\n",
       "      <th>1</th>\n",
       "      <td>Preparatory Phase</td>\n",
       "      <td>Familiarising with the work undertaken so far ...</td>\n",
       "      <td>2019-07-21</td>\n",
       "      <td>2019-07-30</td>\n",
       "      <td>9</td>\n",
       "    </tr>\n",
       "    <tr>\n",
       "      <th>2</th>\n",
       "      <td>Simulation and\\nModelling</td>\n",
       "      <td>Building the generic model</td>\n",
       "      <td>2019-07-19</td>\n",
       "      <td>2019-07-25</td>\n",
       "      <td>6</td>\n",
       "    </tr>\n",
       "    <tr>\n",
       "      <th>3</th>\n",
       "      <td>Simulation and\\nModelling</td>\n",
       "      <td>Implementing the neural network model</td>\n",
       "      <td>2019-07-25</td>\n",
       "      <td>2019-08-10</td>\n",
       "      <td>16</td>\n",
       "    </tr>\n",
       "    <tr>\n",
       "      <th>4</th>\n",
       "      <td>Simulation and\\nModelling</td>\n",
       "      <td>Revising the models to incoporate control stra...</td>\n",
       "      <td>2019-08-10</td>\n",
       "      <td>2019-08-19</td>\n",
       "      <td>9</td>\n",
       "    </tr>\n",
       "    <tr>\n",
       "      <th>5</th>\n",
       "      <td>Analysis and\\nCompilation of\\nResults</td>\n",
       "      <td>Analysing performance and failure modes</td>\n",
       "      <td>2019-08-08</td>\n",
       "      <td>2019-08-22</td>\n",
       "      <td>14</td>\n",
       "    </tr>\n",
       "    <tr>\n",
       "      <th>6</th>\n",
       "      <td>Analysis and\\nCompilation of\\nResults</td>\n",
       "      <td>Compiling of results</td>\n",
       "      <td>2019-08-22</td>\n",
       "      <td>2019-08-28</td>\n",
       "      <td>6</td>\n",
       "    </tr>\n",
       "    <tr>\n",
       "      <th>7</th>\n",
       "      <td>Report Writing</td>\n",
       "      <td>Report Writing</td>\n",
       "      <td>2019-08-26</td>\n",
       "      <td>2019-09-02</td>\n",
       "      <td>7</td>\n",
       "    </tr>\n",
       "  </tbody>\n",
       "</table>\n",
       "</div>"
      ],
      "text/plain": [
       "                                   Phase  \\\n",
       "0                      Preparatory Phase   \n",
       "1                      Preparatory Phase   \n",
       "2              Simulation and\\nModelling   \n",
       "3              Simulation and\\nModelling   \n",
       "4              Simulation and\\nModelling   \n",
       "5  Analysis and\\nCompilation of\\nResults   \n",
       "6  Analysis and\\nCompilation of\\nResults   \n",
       "7                         Report Writing   \n",
       "\n",
       "                                           Sub-Phase Start Date   End Date  \\\n",
       "0  Literature Review of similar robot modelling a... 2019-07-15 2019-07-21   \n",
       "1  Familiarising with the work undertaken so far ... 2019-07-21 2019-07-30   \n",
       "2                         Building the generic model 2019-07-19 2019-07-25   \n",
       "3              Implementing the neural network model 2019-07-25 2019-08-10   \n",
       "4  Revising the models to incoporate control stra... 2019-08-10 2019-08-19   \n",
       "5            Analysing performance and failure modes 2019-08-08 2019-08-22   \n",
       "6                               Compiling of results 2019-08-22 2019-08-28   \n",
       "7                                     Report Writing 2019-08-26 2019-09-02   \n",
       "\n",
       "   Date Difference in days  \n",
       "0                        6  \n",
       "1                        9  \n",
       "2                        6  \n",
       "3                       16  \n",
       "4                        9  \n",
       "5                       14  \n",
       "6                        6  \n",
       "7                        7  "
      ]
     },
     "execution_count": 6,
     "metadata": {},
     "output_type": "execute_result"
    }
   ],
   "source": [
    "data"
   ]
  },
  {
   "cell_type": "code",
   "execution_count": 7,
   "metadata": {},
   "outputs": [],
   "source": [
    "data['y']=[3,3,2,2,2,1,1,0]"
   ]
  },
  {
   "cell_type": "code",
   "execution_count": 8,
   "metadata": {},
   "outputs": [],
   "source": [
    "cm1=plt.get_cmap('tab20c')\n",
    "cm2=plt.get_cmap('Set1')\n",
    "clist=[cm1(1),cm1(0),cm1(6),cm1(5),cm1(4),cm1(9),cm1(8),cm2(0)]"
   ]
  },
  {
   "cell_type": "code",
   "execution_count": 9,
   "metadata": {},
   "outputs": [],
   "source": [
    "data['Start Date_mdate'] = [mdates.date2num(d) for d in data['Start Date']]\n",
    "data['End Date_mdate'] = [mdates.date2num(d) for d in data['End Date']]"
   ]
  },
  {
   "cell_type": "code",
   "execution_count": 10,
   "metadata": {
    "scrolled": false
   },
   "outputs": [
    {
     "data": {
      "image/png": "[encoded data removed]",
      "text/plain": [
       "<Figure size 720x288 with 1 Axes>"
      ]
     },
     "metadata": {
      "needs_background": "light"
     },
     "output_type": "display_data"
    }
   ],
   "source": [
    "fig, ax = plt.subplots(figsize=(10,4))\n",
    "mpl.rcParams['axes.titlepad'] = 20 \n",
    "ax.set_xlim(737255.0,737305.0)\n",
    "ax.xaxis.set_major_formatter(mdates.DateFormatter('%d %b\\n%Y'))\n",
    "ax.xaxis.set_major_locator(mdates.WeekdayLocator(byweekday=mdates.MONDAY))\n",
    "ax.set_axisbelow(True)\n",
    "ax.xaxis.grid(linestyle='dashed')\n",
    "ax.set_yticks(np.arange(4))\n",
    "ax.set_yticklabels(data['Phase'].unique()[::-1],fontsize=12)\n",
    "for tick in ax.xaxis.get_major_ticks():\n",
    "    tick.label.set_fontsize(12) \n",
    "#ax.set_yticklabels(data['Phase'].unique()[::-1],fontproperties=label_prop)\n",
    "\n",
    "plt.barh(data['y'],data['End Date_mdate']-data['Start Date_mdate'],left=data['Start Date_mdate'],color=clist)\n",
    "\n",
    "for spine in plt.gca().spines.values():\n",
    "    spine.set_visible(False)\n",
    "\n",
    "plt.tick_params(top=False, bottom=False, left=True, right=False, labelleft=True, labelbottom=True)\n",
    "plt.title('Project Plan - Gantt Chart',fontsize=18,fontweight='semibold')\n",
    "#plt.title('Project Plan - Gantt Chart',fontproperties=title_prop)\n",
    "plt.savefig('Images/Output_Image.png')\n",
    "plt.show()"
   ]
  },
  {
   "cell_type": "raw",
   "metadata": {},
   "source": [
    "font_path='/Users/arundathishanthini/miniconda3/pkgs/matplotlib-3.0.1-py36h54f8f79_0/lib/python3.6/site-packages/matplotlib/mpl-data/fonts/ttf/STIXGeneral.ttf'\n",
    "\n",
    "title_prop = font_manager.FontProperties(fname=font_path,size=24,weight='extra bold')\n",
    "label_prop = font_manager.FontProperties(fname=font_path,size=15,weight='extra bold')"
   ]
  },
  {
   "cell_type": "raw",
   "metadata": {},
   "source": [
    "import matplotlib.font_manager as font_manager"
   ]
  },
  {
   "cell_type": "raw",
   "metadata": {},
   "source": [
    "import matplotlib.font_manager\n",
    "from IPython.core.display import HTML\n",
    "\n",
    "def make_html(fontname):\n",
    "    return \"<p>{font}: <span style='font-family:{font}; font-size: 24px;'>{font}</p>\".format(font=fontname)\n",
    "\n",
    "code = \"\\n\".join([make_html(font) for font in sorted(set([f.name for f in matplotlib.font_manager.fontManager.ttflist]))])\n",
    "\n",
    "HTML(\"<div style='column-count: 2;'>{}</div>\".format(code))"
   ]
  },
  {
   "cell_type": "code",
   "execution_count": null,
   "metadata": {},
   "outputs": [],
   "source": []
  }
 ],
 "metadata": {
  "kernelspec": {
   "display_name": "Python 3",
   "language": "python",
   "name": "python3"
  },
  "language_info": {
   "codemirror_mode": {
    "name": "ipython",
    "version": 3
   },
   "file_extension": ".py",
   "mimetype": "text/x-python",
   "name": "python",
   "nbconvert_exporter": "python",
   "pygments_lexer": "ipython3",
   "version": "3.7.1"
  }
 },
 "nbformat": 4,
 "nbformat_minor": 2
}
