{
 "cells": [
  {
   "cell_type": "code",
   "execution_count": 1,
   "metadata": {},
   "outputs": [],
   "source": [
    "import numpy as np\n",
    "import pandas as pd\n",
    "\n",
    "import matplotlib.pyplot as plt\n",
    "\n",
    "import textwrap\n",
    "\n",
    "import plotly.plotly as py\n",
    "import plotly.figure_factory as ff"
   ]
  },
  {
   "cell_type": "code",
   "execution_count": 2,
   "metadata": {},
   "outputs": [],
   "source": [
    "data=pd.read_csv('Project Plan detailed.csv')"
   ]
  },
  {
   "cell_type": "code",
   "execution_count": 3,
   "metadata": {
    "scrolled": true
   },
   "outputs": [
    {
     "data": {
      "text/plain": [
       "Phase         object\n",
       "Sub-Phase     object\n",
       "Start Date    object\n",
       "End Date      object\n",
       "dtype: object"
      ]
     },
     "execution_count": 3,
     "metadata": {},
     "output_type": "execute_result"
    }
   ],
   "source": [
    "data.dtypes"
   ]
  },
  {
   "cell_type": "code",
   "execution_count": 4,
   "metadata": {},
   "outputs": [],
   "source": [
    "data['Start Date']=pd.to_datetime(data['Start Date'],format='%d/%m/%Y')\n",
    "data['End Date']=pd.to_datetime(data['End Date'],format='%d/%m/%Y')\n",
    "data['Date Difference in days']=(data['End Date']-data['Start Date']).dt.days"
   ]
  },
  {
   "cell_type": "code",
   "execution_count": null,
   "metadata": {},
   "outputs": [],
   "source": [
    "data['Sub-Phase']=data['Sub-Phase']"
   ]
  },
  {
   "cell_type": "code",
   "execution_count": 5,
   "metadata": {
    "scrolled": true
   },
   "outputs": [
    {
     "data": {
      "text/html": [
       "<div>\n",
       "<style scoped>\n",
       "    .dataframe tbody tr th:only-of-type {\n",
       "        vertical-align: middle;\n",
       "    }\n",
       "\n",
       "    .dataframe tbody tr th {\n",
       "        vertical-align: top;\n",
       "    }\n",
       "\n",
       "    .dataframe thead th {\n",
       "        text-align: right;\n",
       "    }\n",
       "</style>\n",
       "<table border=\"1\" class=\"dataframe\">\n",
       "  <thead>\n",
       "    <tr style=\"text-align: right;\">\n",
       "      <th></th>\n",
       "      <th>Phase</th>\n",
       "      <th>Sub-Phase</th>\n",
       "      <th>Start Date</th>\n",
       "      <th>End Date</th>\n",
       "      <th>Date Difference in days</th>\n",
       "    </tr>\n",
       "  </thead>\n",
       "  <tbody>\n",
       "    <tr>\n",
       "      <th>0</th>\n",
       "      <td>Preparatory Phase</td>\n",
       "      <td>Literature Review of similar robot modelling a...</td>\n",
       "      <td>2019-07-15</td>\n",
       "      <td>2019-07-21</td>\n",
       "      <td>6</td>\n",
       "    </tr>\n",
       "    <tr>\n",
       "      <th>1</th>\n",
       "      <td>Preparatory Phase</td>\n",
       "      <td>Familiarising with the work undertaken so far ...</td>\n",
       "      <td>2019-07-21</td>\n",
       "      <td>2019-07-24</td>\n",
       "      <td>3</td>\n",
       "    </tr>\n",
       "    <tr>\n",
       "      <th>2</th>\n",
       "      <td>Simulation and Modelling</td>\n",
       "      <td>Building the generic model</td>\n",
       "      <td>2019-07-19</td>\n",
       "      <td>2019-07-28</td>\n",
       "      <td>9</td>\n",
       "    </tr>\n",
       "    <tr>\n",
       "      <th>3</th>\n",
       "      <td>Simulation and Modelling</td>\n",
       "      <td>Revising the models to incoporate control stra...</td>\n",
       "      <td>2019-07-28</td>\n",
       "      <td>2019-08-12</td>\n",
       "      <td>15</td>\n",
       "    </tr>\n",
       "    <tr>\n",
       "      <th>4</th>\n",
       "      <td>Analysis and Compilation of Results</td>\n",
       "      <td>Analysing performance and failure modes</td>\n",
       "      <td>2019-08-08</td>\n",
       "      <td>2019-08-22</td>\n",
       "      <td>14</td>\n",
       "    </tr>\n",
       "    <tr>\n",
       "      <th>5</th>\n",
       "      <td>Analysis and Compilation of Results</td>\n",
       "      <td>Compiling of results</td>\n",
       "      <td>2019-08-22</td>\n",
       "      <td>2019-08-28</td>\n",
       "      <td>6</td>\n",
       "    </tr>\n",
       "    <tr>\n",
       "      <th>6</th>\n",
       "      <td>Report Writing</td>\n",
       "      <td>Report Writing</td>\n",
       "      <td>2019-08-26</td>\n",
       "      <td>2019-08-31</td>\n",
       "      <td>5</td>\n",
       "    </tr>\n",
       "  </tbody>\n",
       "</table>\n",
       "</div>"
      ],
      "text/plain": [
       "                                 Phase  \\\n",
       "0                    Preparatory Phase   \n",
       "1                    Preparatory Phase   \n",
       "2             Simulation and Modelling   \n",
       "3             Simulation and Modelling   \n",
       "4  Analysis and Compilation of Results   \n",
       "5  Analysis and Compilation of Results   \n",
       "6                       Report Writing   \n",
       "\n",
       "                                           Sub-Phase Start Date   End Date  \\\n",
       "0  Literature Review of similar robot modelling a... 2019-07-15 2019-07-21   \n",
       "1  Familiarising with the work undertaken so far ... 2019-07-21 2019-07-24   \n",
       "2                         Building the generic model 2019-07-19 2019-07-28   \n",
       "3  Revising the models to incoporate control stra... 2019-07-28 2019-08-12   \n",
       "4            Analysing performance and failure modes 2019-08-08 2019-08-22   \n",
       "5                               Compiling of results 2019-08-22 2019-08-28   \n",
       "6                                     Report Writing 2019-08-26 2019-08-31   \n",
       "\n",
       "   Date Difference in days  \n",
       "0                        6  \n",
       "1                        3  \n",
       "2                        9  \n",
       "3                       15  \n",
       "4                       14  \n",
       "5                        6  \n",
       "6                        5  "
      ]
     },
     "execution_count": 5,
     "metadata": {},
     "output_type": "execute_result"
    }
   ],
   "source": [
    "data"
   ]
  },
  {
   "cell_type": "code",
   "execution_count": 6,
   "metadata": {},
   "outputs": [],
   "source": [
    "data.rename(columns={'Phase':'Task','Start Date':'Start','End Date':'Finish','Sub-Phase':'Resource'},inplace=True)"
   ]
  },
  {
   "cell_type": "code",
   "execution_count": 7,
   "metadata": {},
   "outputs": [],
   "source": [
    "cm1=plt.get_cmap('tab20c')\n",
    "cm2=plt.get_cmap('Set1')\n",
    "clist=[cm1(1),cm1(0),cm1(5),cm1(4),cm1(9),cm1(8),cm2(0)]"
   ]
  },
  {
   "cell_type": "code",
   "execution_count": 14,
   "metadata": {
    "scrolled": false
   },
   "outputs": [
    {
     "data": {
      "text/html": [
       "<iframe id=\"igraph\" scrolling=\"no\" style=\"border:none;\" seamless=\"seamless\" src=\"https://plot.ly/~Aru2612/4.embed\" height=\"600px\" width=\"900px\"></iframe>"
      ],
      "text/plain": [
       "<plotly.tools.PlotlyDisplay object>"
      ]
     },
     "execution_count": 14,
     "metadata": {},
     "output_type": "execute_result"
    }
   ],
   "source": [
    "colors = dict(zip(data['Resource'].values,clist))\n",
    "\n",
    "fig = ff.create_gantt(data[['Task','Start','Finish','Resource']], colors=colors, index_col='Resource', \n",
    "                      show_colorbar=True, showgrid_x=True,group_tasks=True)\n",
    "py.iplot(fig, filename='Gantt Chart')"
   ]
  },
  {
   "cell_type": "code",
   "execution_count": 10,
   "metadata": {},
   "outputs": [],
   "source": [
    "from plotly.offline import download_plotlyjs, init_notebook_mode, plot, iplot"
   ]
  },
  {
   "cell_type": "code",
   "execution_count": null,
   "metadata": {},
   "outputs": [],
   "source": []
  }
 ],
 "metadata": {
  "kernelspec": {
   "display_name": "Python 3",
   "language": "python",
   "name": "python3"
  },
  "language_info": {
   "codemirror_mode": {
    "name": "ipython",
    "version": 3
   },
   "file_extension": ".py",
   "mimetype": "text/x-python",
   "name": "python",
   "nbconvert_exporter": "python",
   "pygments_lexer": "ipython3",
   "version": "3.7.1"
  }
 },
 "nbformat": 4,
 "nbformat_minor": 2
}
